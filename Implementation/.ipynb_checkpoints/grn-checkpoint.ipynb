{
 "cells": [
  {
   "cell_type": "code",
   "execution_count": 15,
   "metadata": {
    "ExecuteTime": {
     "end_time": "2021-03-29T08:20:57.806912Z",
     "start_time": "2021-03-29T08:20:57.781981Z"
    }
   },
   "outputs": [],
   "source": [
    "from constraint import *\n",
    "import pandas as pd\n",
    "import numpy as np\n",
    "import math"
   ]
  },
  {
   "cell_type": "code",
   "execution_count": 16,
   "metadata": {
    "ExecuteTime": {
     "end_time": "2021-03-29T08:20:59.219552Z",
     "start_time": "2021-03-29T08:20:59.063607Z"
    }
   },
   "outputs": [],
   "source": [
    "network1 = pd.read_csv('edgesGRADIS.csv')\n",
    "network2 = pd.read_csv('edgesTIGRESS.csv')\n",
    "network3 = pd.read_csv('edgesGENIE.csv')\n",
    "networks = [network3, network2, network1]"
   ]
  },
  {
   "cell_type": "code",
   "execution_count": 17,
   "metadata": {
    "ExecuteTime": {
     "end_time": "2021-03-29T08:21:01.169548Z",
     "start_time": "2021-03-29T08:21:01.149240Z"
    }
   },
   "outputs": [],
   "source": [
    "def get_longest_dictionary(dicts):\n",
    "    sizes = []\n",
    "    for dic in dicts:\n",
    "        sizes.append(len(dic))\n",
    "    max_size = max(sizes)\n",
    "    return sizes.index(max_size)"
   ]
  },
  {
   "cell_type": "code",
   "execution_count": 18,
   "metadata": {
    "ExecuteTime": {
     "end_time": "2021-03-29T08:21:02.946674Z",
     "start_time": "2021-03-29T08:21:02.925730Z"
    }
   },
   "outputs": [],
   "source": [
    "#network['gxy'] = network['gx'].astype(str) + network['gy'].astype(str)\n",
    "def my_todict(network, str1, str2): # str1 = gxy, str2 = value\n",
    "    key = list(network[str1])\n",
    "    value = list(network[str2])\n",
    "    mydict = {}\n",
    "    for i in range(len(key)):\n",
    "        mydict[key[i]] = value[i]\n",
    "    return mydict"
   ]
  },
  {
   "cell_type": "code",
   "execution_count": 19,
   "metadata": {
    "ExecuteTime": {
     "end_time": "2021-03-29T08:21:04.723268Z",
     "start_time": "2021-03-29T08:21:04.681383Z"
    }
   },
   "outputs": [],
   "source": [
    "def calculate_domain (networks, gx, gy, edge_weight, step = 0.1): \n",
    "    # step is float, gx, gy, edge_weight are strings (labels of network csv file)\n",
    "    factors = []\n",
    "    networks_dicts = []\n",
    "    for network in networks:\n",
    "        network['gxy'] = network[gx].astype(str) + network[gy].astype(str)\n",
    "        network_dict = my_todict(network, 'gxy', edge_weight)\n",
    "        networks_dicts.append(network_dict)\n",
    "    longest_dict_index = get_longest_dictionary(networks_dicts)\n",
    "    for key in networks_dicts[longest_dict_index]:\n",
    "        myvalues = []\n",
    "        for i in range (len(networks_dicts)):\n",
    "            try :\n",
    "                myvalues.append(networks_dicts[i][key])\n",
    "            except KeyError:\n",
    "                continue\n",
    "        factors.append(myvalues)\n",
    "    means = []\n",
    "    std_dev = []\n",
    "    for lst in factors:\n",
    "        means.append(sum(lst)/len(lst))\n",
    "        std_dev.append(np.std(lst))\n",
    "    domain = {}\n",
    "    keys = list(networks_dicts[longest_dict_index].keys())\n",
    "    for i in range(len(networks_dicts[longest_dict_index])):\n",
    "        key = keys[i]\n",
    "        #domain[key] = np.arange(means[i]-(std_dev[i]/2), means[i]+(std_dev[i]/2)+0.1, step)\n",
    "        domain[key] = np.asarray([means[i]-(std_dev[i]/2), means[i], means[i]+(std_dev[i]/2)])\n",
    "\n",
    "    return domain, keys, means"
   ]
  },
  {
   "cell_type": "code",
   "execution_count": 20,
   "metadata": {
    "ExecuteTime": {
     "end_time": "2021-03-29T08:21:07.601122Z",
     "start_time": "2021-03-29T08:21:07.451036Z"
    }
   },
   "outputs": [
    {
     "name": "stdout",
     "output_type": "stream",
     "text": [
      "{'G1G5': array([0.648931, 0.763154, 0.877377]), 'G5G1': array([0.499344, 0.499344, 0.499344]), 'G6G8': array([0.4987405, 0.611027 , 0.7233135]), 'G8G6': array([0.366752, 0.366752, 0.366752]), 'G9G10': array([0.397001, 0.470934, 0.544867]), 'G2G8': array([0.249629, 0.249629, 0.249629]), 'G9G7': array([0.236426, 0.236426, 0.236426]), 'G7G4': array([0.207432, 0.207432, 0.207432]), 'G10G9': array([0.204197, 0.204197, 0.204197]), 'G2G6': array([0.26359825, 0.3246655 , 0.38573275]), 'G7G9': array([0.201392, 0.201392, 0.201392]), 'G5G9': array([0.198182, 0.198182, 0.198182]), 'G3G4': array([0.22220575, 0.2486705 , 0.27513525]), 'G6G2': array([0.194773, 0.194773, 0.194773]), 'G4G3': array([0.187063, 0.187063, 0.187063]), 'G7G2': array([0.2678875, 0.358725 , 0.4495625]), 'G3G7': array([0.2915285, 0.418219 , 0.5449095]), 'G8G2': array([0.160942, 0.160942, 0.160942]), 'G7G3': array([0.2267555, 0.303437 , 0.3801185]), 'G4G10': array([0.144416, 0.144416, 0.144416]), 'G2G1': array([0.133893, 0.133893, 0.133893]), 'G1G2': array([0.130664, 0.130664, 0.130664]), 'G9G3': array([0.126967, 0.126967, 0.126967]), 'G4G7': array([0.1842185, 0.244679 , 0.3051395]), 'G5G4': array([0.122196, 0.122196, 0.122196]), 'G5G10': array([0.120854, 0.120854, 0.120854]), 'G2G5': array([0.110638, 0.110638, 0.110638]), 'G1G4': array([0.107992, 0.107992, 0.107992]), 'G5G2': array([0.18471075, 0.2699405 , 0.35517025]), 'G10G4': array([0.099059, 0.099059, 0.099059]), 'G2G7': array([0.097128, 0.097128, 0.097128]), 'G2G3': array([0.095445, 0.095445, 0.095445]), 'G1G3': array([0.09455, 0.09455, 0.09455]), 'G9G4': array([0.094416, 0.094416, 0.094416]), 'G3G10': array([0.093643, 0.093643, 0.093643]), 'G1G7': array([0.089575, 0.089575, 0.089575]), 'G8G3': array([0.089444, 0.089444, 0.089444]), 'G8G1': array([0.085263, 0.085263, 0.085263]), 'G5G6': array([0.084934, 0.084934, 0.084934]), 'G5G3': array([0.084927, 0.084927, 0.084927]), 'G7G8': array([0.08474, 0.08474, 0.08474]), 'G5G7': array([0.084099, 0.084099, 0.084099]), 'G7G10': array([0.081266, 0.081266, 0.081266]), 'G3G9': array([0.079521, 0.079521, 0.079521]), 'G6G3': array([0.2422325, 0.405355 , 0.5684775]), 'G10G3': array([0.077742, 0.077742, 0.077742]), 'G3G2': array([0.076504, 0.076504, 0.076504]), 'G1G8': array([0.075252, 0.075252, 0.075252]), 'G2G9': array([0.074488, 0.074488, 0.074488]), 'G1G10': array([0.072084, 0.072084, 0.072084]), 'G7G6': array([0.280719, 0.489546, 0.698373]), 'G8G5': array([0.071816, 0.071816, 0.071816]), 'G8G7': array([0.068535, 0.068535, 0.068535]), 'G1G6': array([0.067428, 0.067428, 0.067428]), 'G4G9': array([0.066436, 0.066436, 0.066436]), 'G4G5': array([0.066339, 0.066339, 0.066339]), 'G5G8': array([0.066143, 0.066143, 0.066143]), 'G6G7': array([0.065376, 0.065376, 0.065376]), 'G8G9': array([0.065028, 0.065028, 0.065028]), 'G6G4': array([0.1724245, 0.281083 , 0.3897415]), 'G10G7': array([0.063002, 0.063002, 0.063002]), 'G9G2': array([0.060897, 0.060897, 0.060897]), 'G7G5': array([0.057036, 0.057036, 0.057036]), 'G4G6': array([0.055304, 0.055304, 0.055304]), 'G8G4': array([0.055098, 0.055098, 0.055098]), 'G6G10': array([0.054374, 0.054374, 0.054374]), 'G3G6': array([0.054218, 0.054218, 0.054218]), 'G1G9': array([0.054071, 0.054071, 0.054071]), 'G10G2': array([0.053704, 0.053704, 0.053704]), 'G8G10': array([0.052499, 0.052499, 0.052499]), 'G7G1': array([0.051961, 0.051961, 0.051961]), 'G6G9': array([0.050268, 0.050268, 0.050268]), 'G2G10': array([0.049745, 0.049745, 0.049745]), 'G4G1': array([0.2806435, 0.512029 , 0.7434145]), 'G9G8': array([0.048621, 0.048621, 0.048621]), 'G2G4': array([0.048318, 0.048318, 0.048318]), 'G6G5': array([0.047075, 0.047075, 0.047075]), 'G9G6': array([0.046298, 0.046298, 0.046298]), 'G10G6': array([0.045849, 0.045849, 0.045849]), 'G9G1': array([0.045088, 0.045088, 0.045088]), 'G3G1': array([0.04418, 0.04418, 0.04418]), 'G10G1': array([0.044004, 0.044004, 0.044004]), 'G6G1': array([0.041145, 0.041145, 0.041145]), 'G4G2': array([0.10446025, 0.1681735 , 0.23188675]), 'G9G5': array([0.040107, 0.040107, 0.040107]), 'G10G8': array([0.03606, 0.03606, 0.03606]), 'G3G5': array([0.034777, 0.034777, 0.034777]), 'G10G5': array([0.033887, 0.033887, 0.033887]), 'G4G8': array([0.028492, 0.028492, 0.028492]), 'G3G8': array([0.025697, 0.025697, 0.025697])}\n"
     ]
    },
    {
     "data": {
      "text/plain": [
       "90"
      ]
     },
     "execution_count": 20,
     "metadata": {},
     "output_type": "execute_result"
    }
   ],
   "source": [
    "domains, keys, means = calculate_domain ([network2, network3], 'gx', 'gy', 'value')\n",
    "print(domains)\n",
    "len(domains)"
   ]
  },
  {
   "cell_type": "code",
   "execution_count": 220,
   "metadata": {},
   "outputs": [],
   "source": [
    "#network.info()"
   ]
  },
  {
   "cell_type": "code",
   "execution_count": 21,
   "metadata": {
    "ExecuteTime": {
     "end_time": "2021-03-29T08:21:12.216566Z",
     "start_time": "2021-03-29T08:21:12.182658Z"
    }
   },
   "outputs": [],
   "source": [
    "def sparsity_constraint(Regulator_Values):\n",
    "    ascending_order = sorted(Regulator_Values)\n",
    "    lower_limit = np.mean(ascending_order[0: int(len(Regulator_Values)/3)])\n",
    "    descending_order = np.flip(sorted(Regulator_Values))\n",
    "    upper_limit = np.mean(descending_order[0:int(len(Regulator_Values)/3)])\n",
    "    return (lower_limit, upper_limit)"
   ]
  },
  {
   "cell_type": "code",
   "execution_count": 22,
   "metadata": {
    "ExecuteTime": {
     "end_time": "2021-03-29T08:21:14.118685Z",
     "start_time": "2021-03-29T08:21:14.057880Z"
    }
   },
   "outputs": [],
   "source": [
    "def redundant_edge (problem, networks, gx, gy, edge_weight, limits):\n",
    "    domains, keys, means = calculate_domain(networks, gx, gy, edge_weight)\n",
    "    lower_limit = limits[0]\n",
    "    upper_limit = limits[1]\n",
    "    reverse_key_set = set()\n",
    "    for i in range(len(keys)):\n",
    "        \n",
    "        key = keys[i]\n",
    "        if key in reverse_key_set:\n",
    "            continue\n",
    "\n",
    "        max_domain = max(domains[key])\n",
    "\n",
    "        reverse_key = get_reverse_gene(key)\n",
    "        \n",
    "        mean_key = np.mean(domains[key])\n",
    "        try:\n",
    "            mean_reverse_key = np.mean(domains[reverse_key])\n",
    "        except KeyError:\n",
    "            mean_reverse_key = 0\n",
    "            \n",
    "        if mean_reverse_key > mean_key:\n",
    "            primary_key = reverse_key\n",
    "            secondary_key = key\n",
    "        else :\n",
    "            primary_key = key\n",
    "            secondary_key = reverse_key\n",
    "        \n",
    "        mean_index = keys.index(primary_key)\n",
    "        mean = means[mean_index]\n",
    "        \n",
    "        reverse_key_set.add(secondary_key)\n",
    "        try:\n",
    "            max_secondary = max(domains[secondary_key])\n",
    "        except KeyError:\n",
    "            max_secondary = 0\n",
    "        \n",
    "        try:\n",
    "            print('added ' + primary_key)\n",
    "            problem.addVariable(primary_key, domains[primary_key])\n",
    "            #problem.addConstraint(lambda x : lower_limit < x and x < upper_limit, [primary_key])\n",
    "            #problem.addConstraint(lambda x : x > mean and max_secondary < x/2, [primary_key])\n",
    "        except ValueError:\n",
    "            continue\n",
    "\n",
    "        if max_secondary > mean:\n",
    "            try :\n",
    "                print('added inverse ' + secondary_key)\n",
    "                problem.addVariable(secondary_key, domains[secondary_key])\n",
    "            except ValueError :\n",
    "                continue\n",
    "    problem.addConstraint(boundary_constraint)    \n",
    "    return problem"
   ]
  },
  {
   "cell_type": "code",
   "execution_count": 23,
   "metadata": {
    "ExecuteTime": {
     "end_time": "2021-03-29T08:21:16.939113Z",
     "start_time": "2021-03-29T08:21:16.920167Z"
    }
   },
   "outputs": [],
   "source": [
    "def get_reverse_gene(gene):\n",
    "    second_g_index = gene[1:len(gene)].index('G') + 1\n",
    "    part1 = gene[1:second_g_index]\n",
    "    part2 = gene[second_g_index: len(gene)]\n",
    "    return part2 + 'G' + part1"
   ]
  },
  {
   "cell_type": "code",
   "execution_count": 24,
   "metadata": {
    "ExecuteTime": {
     "end_time": "2021-03-29T08:21:18.735031Z",
     "start_time": "2021-03-29T08:21:18.700125Z"
    }
   },
   "outputs": [],
   "source": [
    "def boundary_constraint(*arr):\n",
    "    limits = sparsity_constraint(means)\n",
    "    lower_limit = limits[0]\n",
    "    upper_limit = limits[1]\n",
    "    result = True\n",
    "    for v in arr:\n",
    "        if v < lower_limit or v > upper_limit :\n",
    "            result = False\n",
    "    return result"
   ]
  },
  {
   "cell_type": "code",
   "execution_count": 25,
   "metadata": {
    "ExecuteTime": {
     "end_time": "2021-03-29T08:21:20.670930Z",
     "start_time": "2021-03-29T08:21:20.548268Z"
    }
   },
   "outputs": [
    {
     "name": "stdout",
     "output_type": "stream",
     "text": [
      "added G1G5\n",
      "added G8G6\n",
      "added inverse G6G8\n",
      "added G8G6\n",
      "added G9G10\n",
      "added G2G8\n",
      "added inverse G8G2\n",
      "added G9G7\n",
      "added G7G4\n",
      "added G6G2\n",
      "added G5G9\n",
      "added G4G3\n",
      "added G6G2\n",
      "added G4G3\n",
      "added G7G2\n",
      "added G3G7\n",
      "added inverse G7G3\n",
      "added G10G4\n",
      "added G2G1\n",
      "added inverse G1G2\n",
      "added G9G3\n",
      "added G5G4\n",
      "added G5G10\n",
      "added G5G2\n",
      "added G4G1\n",
      "added G5G2\n",
      "added G10G4\n",
      "added G3G2\n",
      "added G1G3\n",
      "added G9G4\n",
      "added G10G3\n",
      "added G7G1\n",
      "added inverse G1G7\n",
      "added G8G3\n",
      "added G1G8\n",
      "added G5G6\n",
      "added G5G3\n",
      "added G7G8\n",
      "added G5G7\n",
      "added G7G10\n",
      "added G6G3\n",
      "added G10G3\n",
      "added G3G2\n",
      "added G1G8\n",
      "added G9G2\n",
      "added G10G1\n",
      "added inverse G1G10\n",
      "added G7G6\n",
      "added G8G5\n",
      "added G6G1\n",
      "added inverse G1G6\n",
      "added G8G9\n",
      "added G6G4\n",
      "added G9G2\n",
      "added G8G4\n",
      "added G6G10\n",
      "added G9G1\n",
      "added G10G2\n",
      "added G8G10\n",
      "added G7G1\n",
      "added G6G9\n",
      "added G4G1\n",
      "added G4G2\n",
      "added G9G1\n",
      "added G10G1\n",
      "added G6G1\n",
      "added G4G2\n"
     ]
    }
   ],
   "source": [
    "limits = sparsity_constraint(means)\n",
    "instance = Problem()\n",
    "grn = redundant_edge(instance, networks, 'gx', 'gy', 'value', limits)\n",
    "#grn.getSolutions()"
   ]
  },
  {
   "cell_type": "code",
   "execution_count": 26,
   "metadata": {
    "ExecuteTime": {
     "end_time": "2021-03-29T08:25:41.204339Z",
     "start_time": "2021-03-29T08:21:24.378529Z"
    }
   },
   "outputs": [
    {
     "ename": "KeyboardInterrupt",
     "evalue": "",
     "output_type": "error",
     "traceback": [
      "\u001b[1;31m---------------------------------------------------------------------------\u001b[0m",
      "\u001b[1;31mKeyboardInterrupt\u001b[0m                         Traceback (most recent call last)",
      "\u001b[1;32m<ipython-input-26-d2023a5e819a>\u001b[0m in \u001b[0;36m<module>\u001b[1;34m\u001b[0m\n\u001b[1;32m----> 1\u001b[1;33m \u001b[0msolution\u001b[0m \u001b[1;33m=\u001b[0m \u001b[0mgrn\u001b[0m\u001b[1;33m.\u001b[0m\u001b[0mgetSolutions\u001b[0m\u001b[1;33m(\u001b[0m\u001b[1;33m)\u001b[0m\u001b[1;33m\u001b[0m\u001b[0m\n\u001b[0m",
      "\u001b[1;32mc:\\users\\merna\\appdata\\local\\programs\\python\\python37\\lib\\site-packages\\constraint\\__init__.py\u001b[0m in \u001b[0;36mgetSolutions\u001b[1;34m(self)\u001b[0m\n\u001b[0;32m    269\u001b[0m         \u001b[1;32mif\u001b[0m \u001b[1;32mnot\u001b[0m \u001b[0mdomains\u001b[0m\u001b[1;33m:\u001b[0m\u001b[1;33m\u001b[0m\u001b[0m\n\u001b[0;32m    270\u001b[0m             \u001b[1;32mreturn\u001b[0m \u001b[1;33m[\u001b[0m\u001b[1;33m]\u001b[0m\u001b[1;33m\u001b[0m\u001b[0m\n\u001b[1;32m--> 271\u001b[1;33m         \u001b[1;32mreturn\u001b[0m \u001b[0mself\u001b[0m\u001b[1;33m.\u001b[0m\u001b[0m_solver\u001b[0m\u001b[1;33m.\u001b[0m\u001b[0mgetSolutions\u001b[0m\u001b[1;33m(\u001b[0m\u001b[0mdomains\u001b[0m\u001b[1;33m,\u001b[0m \u001b[0mconstraints\u001b[0m\u001b[1;33m,\u001b[0m \u001b[0mvconstraints\u001b[0m\u001b[1;33m)\u001b[0m\u001b[1;33m\u001b[0m\u001b[0m\n\u001b[0m\u001b[0;32m    272\u001b[0m \u001b[1;33m\u001b[0m\u001b[0m\n\u001b[0;32m    273\u001b[0m     \u001b[1;32mdef\u001b[0m \u001b[0mgetSolutionIter\u001b[0m\u001b[1;33m(\u001b[0m\u001b[0mself\u001b[0m\u001b[1;33m)\u001b[0m\u001b[1;33m:\u001b[0m\u001b[1;33m\u001b[0m\u001b[0m\n",
      "\u001b[1;32mc:\\users\\merna\\appdata\\local\\programs\\python\\python37\\lib\\site-packages\\constraint\\__init__.py\u001b[0m in \u001b[0;36mgetSolutions\u001b[1;34m(self, domains, constraints, vconstraints)\u001b[0m\n\u001b[0;32m    565\u001b[0m \u001b[1;33m\u001b[0m\u001b[0m\n\u001b[0;32m    566\u001b[0m     \u001b[1;32mdef\u001b[0m \u001b[0mgetSolutions\u001b[0m\u001b[1;33m(\u001b[0m\u001b[0mself\u001b[0m\u001b[1;33m,\u001b[0m \u001b[0mdomains\u001b[0m\u001b[1;33m,\u001b[0m \u001b[0mconstraints\u001b[0m\u001b[1;33m,\u001b[0m \u001b[0mvconstraints\u001b[0m\u001b[1;33m)\u001b[0m\u001b[1;33m:\u001b[0m\u001b[1;33m\u001b[0m\u001b[0m\n\u001b[1;32m--> 567\u001b[1;33m         \u001b[1;32mreturn\u001b[0m \u001b[0mlist\u001b[0m\u001b[1;33m(\u001b[0m\u001b[0mself\u001b[0m\u001b[1;33m.\u001b[0m\u001b[0mgetSolutionIter\u001b[0m\u001b[1;33m(\u001b[0m\u001b[0mdomains\u001b[0m\u001b[1;33m,\u001b[0m \u001b[0mconstraints\u001b[0m\u001b[1;33m,\u001b[0m \u001b[0mvconstraints\u001b[0m\u001b[1;33m)\u001b[0m\u001b[1;33m)\u001b[0m\u001b[1;33m\u001b[0m\u001b[0m\n\u001b[0m\u001b[0;32m    568\u001b[0m \u001b[1;33m\u001b[0m\u001b[0m\n\u001b[0;32m    569\u001b[0m \u001b[1;33m\u001b[0m\u001b[0m\n",
      "\u001b[1;32mc:\\users\\merna\\appdata\\local\\programs\\python\\python37\\lib\\site-packages\\constraint\\__init__.py\u001b[0m in \u001b[0;36mgetSolutionIter\u001b[1;34m(self, domains, constraints, vconstraints)\u001b[0m\n\u001b[0;32m    542\u001b[0m \u001b[1;33m\u001b[0m\u001b[0m\n\u001b[0;32m    543\u001b[0m                 \u001b[1;32mfor\u001b[0m \u001b[0mconstraint\u001b[0m\u001b[1;33m,\u001b[0m \u001b[0mvariables\u001b[0m \u001b[1;32min\u001b[0m \u001b[0mvconstraints\u001b[0m\u001b[1;33m[\u001b[0m\u001b[0mvariable\u001b[0m\u001b[1;33m]\u001b[0m\u001b[1;33m:\u001b[0m\u001b[1;33m\u001b[0m\u001b[0m\n\u001b[1;32m--> 544\u001b[1;33m                     \u001b[1;32mif\u001b[0m \u001b[1;32mnot\u001b[0m \u001b[0mconstraint\u001b[0m\u001b[1;33m(\u001b[0m\u001b[0mvariables\u001b[0m\u001b[1;33m,\u001b[0m \u001b[0mdomains\u001b[0m\u001b[1;33m,\u001b[0m \u001b[0massignments\u001b[0m\u001b[1;33m,\u001b[0m \u001b[0mpushdomains\u001b[0m\u001b[1;33m)\u001b[0m\u001b[1;33m:\u001b[0m\u001b[1;33m\u001b[0m\u001b[0m\n\u001b[0m\u001b[0;32m    545\u001b[0m                         \u001b[1;31m# Value is not good.\u001b[0m\u001b[1;33m\u001b[0m\u001b[1;33m\u001b[0m\u001b[0m\n\u001b[0;32m    546\u001b[0m                         \u001b[1;32mbreak\u001b[0m\u001b[1;33m\u001b[0m\u001b[0m\n",
      "\u001b[1;32mc:\\users\\merna\\appdata\\local\\programs\\python\\python37\\lib\\site-packages\\constraint\\__init__.py\u001b[0m in \u001b[0;36m__call__\u001b[1;34m(self, variables, domains, assignments, forwardcheck, _unassigned)\u001b[0m\n\u001b[0;32m    989\u001b[0m                 \u001b[1;32mnot\u001b[0m \u001b[0mforwardcheck\u001b[0m \u001b[1;32mor\u001b[0m\u001b[1;33m\u001b[0m\u001b[0m\n\u001b[0;32m    990\u001b[0m                 \u001b[0mmissing\u001b[0m \u001b[1;33m!=\u001b[0m \u001b[1;36m1\u001b[0m \u001b[1;32mor\u001b[0m\u001b[1;33m\u001b[0m\u001b[0m\n\u001b[1;32m--> 991\u001b[1;33m                 \u001b[0mself\u001b[0m\u001b[1;33m.\u001b[0m\u001b[0mforwardCheck\u001b[0m\u001b[1;33m(\u001b[0m\u001b[0mvariables\u001b[0m\u001b[1;33m,\u001b[0m \u001b[0mdomains\u001b[0m\u001b[1;33m,\u001b[0m \u001b[0massignments\u001b[0m\u001b[1;33m)\u001b[0m\u001b[1;33m\u001b[0m\u001b[0m\n\u001b[0m\u001b[0;32m    992\u001b[0m             )\n\u001b[0;32m    993\u001b[0m         \u001b[1;32mreturn\u001b[0m \u001b[0mself\u001b[0m\u001b[1;33m.\u001b[0m\u001b[0m_func\u001b[0m\u001b[1;33m(\u001b[0m\u001b[1;33m*\u001b[0m\u001b[0mparms\u001b[0m\u001b[1;33m)\u001b[0m\u001b[1;33m\u001b[0m\u001b[0m\n",
      "\u001b[1;32mc:\\users\\merna\\appdata\\local\\programs\\python\\python37\\lib\\site-packages\\constraint\\__init__.py\u001b[0m in \u001b[0;36mforwardCheck\u001b[1;34m(self, variables, domains, assignments, _unassigned)\u001b[0m\n\u001b[0;32m    933\u001b[0m                     \u001b[1;32mfor\u001b[0m \u001b[0mvalue\u001b[0m \u001b[1;32min\u001b[0m \u001b[0mdomain\u001b[0m\u001b[1;33m[\u001b[0m\u001b[1;33m:\u001b[0m\u001b[1;33m]\u001b[0m\u001b[1;33m:\u001b[0m\u001b[1;33m\u001b[0m\u001b[0m\n\u001b[0;32m    934\u001b[0m                         \u001b[0massignments\u001b[0m\u001b[1;33m[\u001b[0m\u001b[0munassignedvariable\u001b[0m\u001b[1;33m]\u001b[0m \u001b[1;33m=\u001b[0m \u001b[0mvalue\u001b[0m\u001b[1;33m\u001b[0m\u001b[0m\n\u001b[1;32m--> 935\u001b[1;33m                         \u001b[1;32mif\u001b[0m \u001b[1;32mnot\u001b[0m \u001b[0mself\u001b[0m\u001b[1;33m(\u001b[0m\u001b[0mvariables\u001b[0m\u001b[1;33m,\u001b[0m \u001b[0mdomains\u001b[0m\u001b[1;33m,\u001b[0m \u001b[0massignments\u001b[0m\u001b[1;33m)\u001b[0m\u001b[1;33m:\u001b[0m\u001b[1;33m\u001b[0m\u001b[0m\n\u001b[0m\u001b[0;32m    936\u001b[0m                             \u001b[0mdomain\u001b[0m\u001b[1;33m.\u001b[0m\u001b[0mhideValue\u001b[0m\u001b[1;33m(\u001b[0m\u001b[0mvalue\u001b[0m\u001b[1;33m)\u001b[0m\u001b[1;33m\u001b[0m\u001b[0m\n\u001b[0;32m    937\u001b[0m                     \u001b[1;32mdel\u001b[0m \u001b[0massignments\u001b[0m\u001b[1;33m[\u001b[0m\u001b[0munassignedvariable\u001b[0m\u001b[1;33m]\u001b[0m\u001b[1;33m\u001b[0m\u001b[0m\n",
      "\u001b[1;32mc:\\users\\merna\\appdata\\local\\programs\\python\\python37\\lib\\site-packages\\constraint\\__init__.py\u001b[0m in \u001b[0;36m__call__\u001b[1;34m(self, variables, domains, assignments, forwardcheck, _unassigned)\u001b[0m\n\u001b[0;32m    991\u001b[0m                 \u001b[0mself\u001b[0m\u001b[1;33m.\u001b[0m\u001b[0mforwardCheck\u001b[0m\u001b[1;33m(\u001b[0m\u001b[0mvariables\u001b[0m\u001b[1;33m,\u001b[0m \u001b[0mdomains\u001b[0m\u001b[1;33m,\u001b[0m \u001b[0massignments\u001b[0m\u001b[1;33m)\u001b[0m\u001b[1;33m\u001b[0m\u001b[0m\n\u001b[0;32m    992\u001b[0m             )\n\u001b[1;32m--> 993\u001b[1;33m         \u001b[1;32mreturn\u001b[0m \u001b[0mself\u001b[0m\u001b[1;33m.\u001b[0m\u001b[0m_func\u001b[0m\u001b[1;33m(\u001b[0m\u001b[1;33m*\u001b[0m\u001b[0mparms\u001b[0m\u001b[1;33m)\u001b[0m\u001b[1;33m\u001b[0m\u001b[0m\n\u001b[0m\u001b[0;32m    994\u001b[0m \u001b[1;33m\u001b[0m\u001b[0m\n\u001b[0;32m    995\u001b[0m \u001b[1;33m\u001b[0m\u001b[0m\n",
      "\u001b[1;32m<ipython-input-24-bf6323b59468>\u001b[0m in \u001b[0;36mboundary_constraint\u001b[1;34m(*arr)\u001b[0m\n\u001b[0;32m      1\u001b[0m \u001b[1;32mdef\u001b[0m \u001b[0mboundary_constraint\u001b[0m\u001b[1;33m(\u001b[0m\u001b[1;33m*\u001b[0m\u001b[0marr\u001b[0m\u001b[1;33m)\u001b[0m\u001b[1;33m:\u001b[0m\u001b[1;33m\u001b[0m\u001b[0m\n\u001b[1;32m----> 2\u001b[1;33m     \u001b[0mlimits\u001b[0m \u001b[1;33m=\u001b[0m \u001b[0msparsity_constraint\u001b[0m\u001b[1;33m(\u001b[0m\u001b[0mmeans\u001b[0m\u001b[1;33m)\u001b[0m\u001b[1;33m\u001b[0m\u001b[0m\n\u001b[0m\u001b[0;32m      3\u001b[0m     \u001b[0mlower_limit\u001b[0m \u001b[1;33m=\u001b[0m \u001b[0mlimits\u001b[0m\u001b[1;33m[\u001b[0m\u001b[1;36m0\u001b[0m\u001b[1;33m]\u001b[0m\u001b[1;33m\u001b[0m\u001b[0m\n\u001b[0;32m      4\u001b[0m     \u001b[0mupper_limit\u001b[0m \u001b[1;33m=\u001b[0m \u001b[0mlimits\u001b[0m\u001b[1;33m[\u001b[0m\u001b[1;36m1\u001b[0m\u001b[1;33m]\u001b[0m\u001b[1;33m\u001b[0m\u001b[0m\n\u001b[0;32m      5\u001b[0m     \u001b[0mresult\u001b[0m \u001b[1;33m=\u001b[0m \u001b[1;32mTrue\u001b[0m\u001b[1;33m\u001b[0m\u001b[0m\n",
      "\u001b[1;32m<ipython-input-21-770da4b0e05e>\u001b[0m in \u001b[0;36msparsity_constraint\u001b[1;34m(Regulator_Values)\u001b[0m\n\u001b[0;32m      3\u001b[0m     \u001b[0mlower_limit\u001b[0m \u001b[1;33m=\u001b[0m \u001b[0mnp\u001b[0m\u001b[1;33m.\u001b[0m\u001b[0mmean\u001b[0m\u001b[1;33m(\u001b[0m\u001b[0mascending_order\u001b[0m\u001b[1;33m[\u001b[0m\u001b[1;36m0\u001b[0m\u001b[1;33m:\u001b[0m \u001b[0mint\u001b[0m\u001b[1;33m(\u001b[0m\u001b[0mlen\u001b[0m\u001b[1;33m(\u001b[0m\u001b[0mRegulator_Values\u001b[0m\u001b[1;33m)\u001b[0m\u001b[1;33m/\u001b[0m\u001b[1;36m3\u001b[0m\u001b[1;33m)\u001b[0m\u001b[1;33m]\u001b[0m\u001b[1;33m)\u001b[0m\u001b[1;33m\u001b[0m\u001b[0m\n\u001b[0;32m      4\u001b[0m     \u001b[0mdescending_order\u001b[0m \u001b[1;33m=\u001b[0m \u001b[0mnp\u001b[0m\u001b[1;33m.\u001b[0m\u001b[0mflip\u001b[0m\u001b[1;33m(\u001b[0m\u001b[0msorted\u001b[0m\u001b[1;33m(\u001b[0m\u001b[0mRegulator_Values\u001b[0m\u001b[1;33m)\u001b[0m\u001b[1;33m)\u001b[0m\u001b[1;33m\u001b[0m\u001b[0m\n\u001b[1;32m----> 5\u001b[1;33m     \u001b[0mupper_limit\u001b[0m \u001b[1;33m=\u001b[0m \u001b[0mnp\u001b[0m\u001b[1;33m.\u001b[0m\u001b[0mmean\u001b[0m\u001b[1;33m(\u001b[0m\u001b[0mdescending_order\u001b[0m\u001b[1;33m[\u001b[0m\u001b[1;36m0\u001b[0m\u001b[1;33m:\u001b[0m\u001b[0mint\u001b[0m\u001b[1;33m(\u001b[0m\u001b[0mlen\u001b[0m\u001b[1;33m(\u001b[0m\u001b[0mRegulator_Values\u001b[0m\u001b[1;33m)\u001b[0m\u001b[1;33m/\u001b[0m\u001b[1;36m3\u001b[0m\u001b[1;33m)\u001b[0m\u001b[1;33m]\u001b[0m\u001b[1;33m)\u001b[0m\u001b[1;33m\u001b[0m\u001b[0m\n\u001b[0m\u001b[0;32m      6\u001b[0m     \u001b[1;32mreturn\u001b[0m \u001b[1;33m(\u001b[0m\u001b[0mlower_limit\u001b[0m\u001b[1;33m,\u001b[0m \u001b[0mupper_limit\u001b[0m\u001b[1;33m)\u001b[0m\u001b[1;33m\u001b[0m\u001b[0m\n",
      "\u001b[1;32m<__array_function__ internals>\u001b[0m in \u001b[0;36mmean\u001b[1;34m(*args, **kwargs)\u001b[0m\n",
      "\u001b[1;32mc:\\users\\merna\\appdata\\local\\programs\\python\\python37\\lib\\site-packages\\numpy\\core\\fromnumeric.py\u001b[0m in \u001b[0;36mmean\u001b[1;34m(a, axis, dtype, out, keepdims)\u001b[0m\n\u001b[0;32m   3333\u001b[0m \u001b[1;33m\u001b[0m\u001b[0m\n\u001b[0;32m   3334\u001b[0m     return _methods._mean(a, axis=axis, dtype=dtype,\n\u001b[1;32m-> 3335\u001b[1;33m                           out=out, **kwargs)\n\u001b[0m\u001b[0;32m   3336\u001b[0m \u001b[1;33m\u001b[0m\u001b[0m\n\u001b[0;32m   3337\u001b[0m \u001b[1;33m\u001b[0m\u001b[0m\n",
      "\u001b[1;32mc:\\users\\merna\\appdata\\local\\programs\\python\\python37\\lib\\site-packages\\numpy\\core\\_methods.py\u001b[0m in \u001b[0;36m_mean\u001b[1;34m(a, axis, dtype, out, keepdims)\u001b[0m\n\u001b[0;32m    150\u001b[0m \u001b[1;33m\u001b[0m\u001b[0m\n\u001b[0;32m    151\u001b[0m     \u001b[0mret\u001b[0m \u001b[1;33m=\u001b[0m \u001b[0mumr_sum\u001b[0m\u001b[1;33m(\u001b[0m\u001b[0marr\u001b[0m\u001b[1;33m,\u001b[0m \u001b[0maxis\u001b[0m\u001b[1;33m,\u001b[0m \u001b[0mdtype\u001b[0m\u001b[1;33m,\u001b[0m \u001b[0mout\u001b[0m\u001b[1;33m,\u001b[0m \u001b[0mkeepdims\u001b[0m\u001b[1;33m)\u001b[0m\u001b[1;33m\u001b[0m\u001b[0m\n\u001b[1;32m--> 152\u001b[1;33m     \u001b[1;32mif\u001b[0m \u001b[0misinstance\u001b[0m\u001b[1;33m(\u001b[0m\u001b[0mret\u001b[0m\u001b[1;33m,\u001b[0m \u001b[0mmu\u001b[0m\u001b[1;33m.\u001b[0m\u001b[0mndarray\u001b[0m\u001b[1;33m)\u001b[0m\u001b[1;33m:\u001b[0m\u001b[1;33m\u001b[0m\u001b[0m\n\u001b[0m\u001b[0;32m    153\u001b[0m         ret = um.true_divide(\n\u001b[0;32m    154\u001b[0m                 ret, rcount, out=ret, casting='unsafe', subok=False)\n",
      "\u001b[1;31mKeyboardInterrupt\u001b[0m: "
     ]
    }
   ],
   "source": [
    "solution = grn.getSolutions()"
   ]
  },
  {
   "cell_type": "code",
   "execution_count": null,
   "metadata": {},
   "outputs": [],
   "source": []
  }
 ],
 "metadata": {
  "kernelspec": {
   "display_name": "Python 3",
   "language": "python",
   "name": "python3"
  },
  "toc": {
   "base_numbering": 1,
   "nav_menu": {},
   "number_sections": true,
   "sideBar": true,
   "skip_h1_title": false,
   "title_cell": "Table of Contents",
   "title_sidebar": "Contents",
   "toc_cell": false,
   "toc_position": {},
   "toc_section_display": true,
   "toc_window_display": false
  }
 },
 "nbformat": 4,
 "nbformat_minor": 4
}
